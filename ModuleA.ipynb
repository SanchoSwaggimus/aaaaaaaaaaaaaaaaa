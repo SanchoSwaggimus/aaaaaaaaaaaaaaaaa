import pandas as pd 
df_plan = read_csv("план.csv")
